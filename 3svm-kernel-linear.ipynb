{
 "cells": [
  {
   "cell_type": "code",
   "execution_count": null,
   "metadata": {},
   "outputs": [],
   "source": [
    "import numpy as np\n",
    "from sklearn.svm import SVC\n",
    "from sklearn.metrics import accuracy_score\n",
    "from sklearn.datasets import make_classification\n",
    "from sklearn.model_selection import train_test_split\n",
    "\n",
    "x,y = make_classification(n_samples = 1000)\n",
    "x_train, x_test, y_train, y_test = train_test_split(x, y, stratify = y)\n",
    "\n",
    "# Method 1\n",
    "def linear_kernel(x_i, x_j):\n",
    "    return x_i.dot(x_j.T)\n",
    "\n",
    "clf1 = SVC(kernel = linear_kernel)\n",
    "clf1.fit(x_train,y_train)\n",
    "print(f'Accuracy on Custom Kernel: {accuracy_score(y_test, clf1.predict(x_test))}')\n",
    "\n",
    "clf2 = SVC(kernel = 'linear')\n",
    "clf2.fit(x_train, y_train)\n",
    "print(f'Accuracy on Inbuilt Kernel: {accuracy_score(y_test, clf2.predict(x_test))}')\n",
    "\n",
    "\n",
    "# Method 2\n",
    "def get_gram(x1, x2, kernel):\n",
    "    return np.array([[kernel(_x1, _x2) for _x2 in x2] for _x1 in x1])\n",
    "\n",
    "def RBF(x1, x2, gamma  = 1):\n",
    "    return np.exp(-gamma * np.linalg.norm(x1-x2))\n",
    "\n",
    "clf1 = SVC(kernel = 'precomputed')\n",
    "clf1.fit(get_gram(x_train, x_train, RBF), y_train)\n",
    "print(f'Accuracy on Custom Kernel: {accuracy_score(y_test, clf1.predict(get_gram(x_test, x_train, RBF)))}')\n",
    "\n",
    "clf2 = SVC(kernel = 'rbf')\n",
    "clf2.fit(x_train,y_train)\n",
    "print(f'Accuracy on Inbuilt Kernel: {accuracy_score(y_test, clf2.predict(x_test))}')"
   ]
  }
 ],
 "metadata": {
  "language_info": {
   "name": "python"
  }
 },
 "nbformat": 4,
 "nbformat_minor": 2
}
