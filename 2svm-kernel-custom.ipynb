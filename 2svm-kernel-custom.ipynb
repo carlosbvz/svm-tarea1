{
 "cells": [
  {
   "cell_type": "code",
   "execution_count": null,
   "metadata": {},
   "outputs": [],
   "source": [
    "from sklearn.datasets import make_classification\n",
    "\n",
    "x,y = make_classification(n_samples = 1000)\n",
    "print(x.shape, y.shape)"
   ]
  },
  {
   "cell_type": "code",
   "execution_count": null,
   "metadata": {},
   "outputs": [],
   "source": [
    "def linear_kernel(x_i,x_j):\n",
    "  return x_i.dot(x_j.T)"
   ]
  },
  {
   "cell_type": "code",
   "execution_count": null,
   "metadata": {},
   "outputs": [],
   "source": [
    "from sklearn.svm import SVC\n",
    "from sklearn.metrics import accuracy_score\n",
    "\n",
    "clf1 = SVC(kernel = linear_kernel)\n",
    "clf1.fit(x,y)\n",
    "print(f'Acccuracy on Custom Kernel: {accuracy_score(y, clf1.predict(x))}')\n",
    "\n",
    "clf2 = SVC(kernel='linear')\n",
    "clf2.fit(x,y)\n",
    "print(f'Accuracy on Inbuild kernel: {accuracy_score(y, clf2.predict(x))}')"
   ]
  }
 ],
 "metadata": {
  "language_info": {
   "name": "python"
  }
 },
 "nbformat": 4,
 "nbformat_minor": 2
}
